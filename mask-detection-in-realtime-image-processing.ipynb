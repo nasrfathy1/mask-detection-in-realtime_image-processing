{
 "cells": [
  {
   "cell_type": "code",
   "execution_count": null,
   "metadata": {
    "scrolled": true
   },
   "outputs": [],
   "source": [
    "from tensorflow.keras.models import load_model\n",
    "from tensorflow.keras.applications.mobilenet_v2 import preprocess_input\n",
    "import numpy as np\n",
    "import cv2"
   ]
  },
  {
   "cell_type": "code",
   "execution_count": null,
   "metadata": {},
   "outputs": [],
   "source": [
    "#this weight from this code https://www.kaggle.com/fathykhader/mask-datection-deep-learning"
   ]
  },
  {
   "cell_type": "code",
   "execution_count": null,
   "metadata": {},
   "outputs": [],
   "source": [
    "model =load_model('/kaggle/input/mask-detection-model-weight/best_weight.h5')"
   ]
  },
  {
   "cell_type": "code",
   "execution_count": null,
   "metadata": {},
   "outputs": [],
   "source": [
    "def prediction(frame):\n",
    "  state=''\n",
    "  image=cv2.resize(frame,(224,224))\n",
    "  image=preprocess_input(image)\n",
    "  image=np.expand_dims(image,axis=0)\n",
    "  prediction=model.predict(image,verbose=0)\n",
    "  \n",
    "  state='Without_mask' if np.argmax(prediction,axis=-1)[0]==1 else 'With_mask'\n",
    "  return state\n"
   ]
  },
  {
   "cell_type": "code",
   "execution_count": null,
   "metadata": {},
   "outputs": [],
   "source": [
    "import cv2\n",
    "cap=cv2.VideoCapture(0)\n",
    "forcc=cv2.VideoWriter_fourcc(*'XVID')\n",
    "out=cv2.VideoWriter('output.avi',forcc,20.0,(640,480))\n",
    "detector=cv2.CascadeClassifier('haarcascade_frontalface_default.xml')\n",
    "font=cv2.FONT_HERSHEY_COMPLEX\n",
    "while True:\n",
    "    _,frame=cap.read()\n",
    "    face=detector.detectMultiScale(frame,1.1,3)\n",
    "    for x,y,w,h in face:\n",
    "        image=frame[y:y+h,x:w+x]\n",
    "\n",
    "        \n",
    "        state=prediction(image)\n",
    "        \n",
    "        color=(0,255,0) if state == 'With_mask' else (0,0,255)\n",
    "\n",
    "        cv2.rectangle(frame,(x,y),(w+x,y+h),color,2)\n",
    "        cv2.putText(frame,state,(x,y-10),font,1,color,2)\n",
    "        out.write(frame)\n",
    "    cv2.imshow('frame',frame)\n",
    "    if cv2.waitKey(1)==ord('q'):\n",
    "        break\n",
    "cap.release()\n",
    "out.release()\n",
    "\n",
    "cv2.destroyAllWindows()"
   ]
  },
  {
   "cell_type": "code",
   "execution_count": null,
   "metadata": {},
   "outputs": [],
   "source": []
  }
 ],
 "metadata": {
  "kernelspec": {
   "display_name": "Python 3 (ipykernel)",
   "language": "python",
   "name": "python3"
  },
  "language_info": {
   "codemirror_mode": {
    "name": "ipython",
    "version": 3
   },
   "file_extension": ".py",
   "mimetype": "text/x-python",
   "name": "python",
   "nbconvert_exporter": "python",
   "pygments_lexer": "ipython3",
   "version": "3.10.9"
  }
 },
 "nbformat": 4,
 "nbformat_minor": 4
}
